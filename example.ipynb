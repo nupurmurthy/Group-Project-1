{
 "cells": [
  {
   "cell_type": "code",
   "execution_count": null,
   "metadata": {
    "scrolled": true
   },
   "outputs": [],
   "source": [
    "\n",
    "import matplotlib.pyplot as plt\n",
    "import pandas as pd\n",
    "import numpy as np\n",
    "import requests\n",
    "import time\n",
    "import openweathermapy.core as owm\n",
    "from datetime import date\n",
    "\n",
    "from api_keys import api_key\n",
    "\n",
    "from citipy import citipy\n",
    "\n",
    "output_data_file = \"output_data/cities.csv\"\n",
    "\n",
    "\n",
    "today = date.today()"
   ]
  },
  {
   "cell_type": "code",
   "execution_count": null,
   "metadata": {},
   "outputs": [],
   "source": [
    "# List for holding lat_lngs and cities\n",
    "lat_lngs = []\n",
    "cities = []\n",
    "\n",
    "# Create a set of random lat and lng combinations\n",
    "lats = np.random.uniform(low=-180.000, high=180.000, size=6000)\n",
    "lngs = np.random.uniform(low=-360.000, high=360.000, size=6000)\n",
    "lat_lngs = zip(lats, lngs)\n",
    "\n",
    "# Identify nearest city for each lat, lng combination\n",
    "for lat_lng in lat_lngs:\n",
    "    city = citipy.nearest_city(lat_lng[0], lat_lng[1]).city_name\n",
    "    \n",
    "    # If the city is unique, then add it to a our cities list\n",
    "    if city not in cities:\n",
    "        cities.append(city)\n",
    "\n",
    "# Print the city count to confirm sufficient count\n",
    "len(cities)"
   ]
  },
  {
   "cell_type": "code",
   "execution_count": null,
   "metadata": {},
   "outputs": [],
   "source": [
    "settings = {\"APPID\": api_key, \"units\": \"imperial\", \"lang\": \"EN\"}\n",
    "keys = [\"clouds.all\", \"sys.country\", \"dt\", \"main.humidity\", \"coord.lat\", \"coord.lon\",\"main.temp_max\", \"wind.speed\"]\n",
    "df = pd.DataFrame(columns=['City','Cloudiness', 'Country', 'Date', 'Humidity', 'Lat', 'Lng', 'Max Temp', 'Wind Speed'])\n",
    "\n",
    "# Write a logfile of each city as it is being processed with the city name and number\n",
    "logfile = open(\"output_data/cities.log\", \"w\")\n",
    "\n",
    "print(\"Beginning Data Retrieval\")\n",
    "print(\"-----------------------------\")\n",
    "\n",
    "i = 0\n",
    "setCnt = 1\n",
    "\n",
    "for city in cities:\n",
    "    \n",
    "    i = i + 1\n",
    "    \n",
    "    print(f\"Processing Record {i} of Set {setCnt} | {city}\")\n",
    "    \n",
    "    try:\n",
    "        data = owm.get_current(city, **settings)\n",
    "        df = df.append({'City':city, 'Cloudiness':data('clouds.all'), 'Country':data('sys.country'), 'Date':data('dt'),\n",
    "                        'Humidity':data('main.humidity'),'Lat':data('coord.lat'),'Lng':data('coord.lon'),\n",
    "                        'Max Temp': data(\"main.temp_max\"),'Wind Speed': data(\"wind.speed\")}, ignore_index=True)\n",
    "        logfile.write(f\"{city},{data('id')}\\n\")\n",
    "    except:\n",
    "        print(\"City not found. Skipping...\")   \n",
    "\n",
    "    if i == 25:\n",
    "        print('Sleeping...')\n",
    "        time.sleep(40)\n",
    "        i = 0\n",
    "        setCnt = setCnt + 1\n",
    "    \n",
    "print(\"-----------------------------\")\n",
    "print(\"Data Retrieval Complete \")\n",
    "print(\"-----------------------------\")\n",
    "\n",
    "logfile.close()"
   ]
  },
  {
   "cell_type": "code",
   "execution_count": null,
   "metadata": {},
   "outputs": [],
   "source": [
    "df.info()"
   ]
  },
  {
   "cell_type": "code",
   "execution_count": null,
   "metadata": {},
   "outputs": [],
   "source": [
    "\n",
    "latitude_x = df['Lat']\n",
    "max_temp_y = df['Max Temp']\n",
    "\n",
    "# Generate the Graph\n",
    "plt.scatter(\n",
    "    latitude_x, \n",
    "    max_temp_y, \n",
    "    edgecolors=\"black\", label=\"Test\")\n",
    "\n",
    "# Incorporate the other graph properties\n",
    "plt.xlabel('Latitude')\n",
    "plt.ylabel('Max Temperature (F)')\n",
    "plt.title(f'City Latitude vs. Max Temperature ({today.strftime(\"%m/%d/%y\")})')\n",
    "plt.grid()\n",
    "\n",
    "# Save Figure\n",
    "plt.savefig(\"./output_data/citymaxtemp.png\")\n",
    "\n",
    "plt"
   ]
  }
 ],
 "metadata": {
  "anaconda-cloud": {},
  "kernel_info": {
   "name": "python3"
  },
  "kernelspec": {
   "display_name": "Python 3",
   "language": "python",
   "name": "python3"
  },
  "language_info": {
   "codemirror_mode": {
    "name": "ipython",
    "version": 3
   },
   "file_extension": ".py",
   "mimetype": "text/x-python",
   "name": "python",
   "nbconvert_exporter": "python",
   "pygments_lexer": "ipython3",
   "version": "3.7.3"
  },
  "nteract": {
   "version": "0.12.3"
  }
 },
 "nbformat": 4,
 "nbformat_minor": 2
}
